{
 "cells": [
  {
   "cell_type": "markdown",
   "metadata": {
    "_uuid": "b5f020b979d9a38fde94631d02a782c2276c4a01"
   },
   "source": [
    "# Libraries Imported"
   ]
  },
  {
   "cell_type": "code",
   "execution_count": 2,
   "metadata": {
    "_cell_guid": "b1076dfc-b9ad-4769-8c92-a6c4dae69d19",
    "_uuid": "8f2839f25d086af736a60e9eeb907d3b93b6e0e5"
   },
   "outputs": [
    {
     "ename": "ModuleNotFoundError",
     "evalue": "No module named 'scikitplot'",
     "output_type": "error",
     "traceback": [
      "\u001b[0;31m---------------------------------------------------------------------------\u001b[0m",
      "\u001b[0;31mModuleNotFoundError\u001b[0m                       Traceback (most recent call last)",
      "\u001b[0;32m<ipython-input-2-76ffba236f30>\u001b[0m in \u001b[0;36m<module>\u001b[0;34m\u001b[0m\n\u001b[1;32m     27\u001b[0m \u001b[0;32mfrom\u001b[0m \u001b[0msklearn\u001b[0m\u001b[0;34m.\u001b[0m\u001b[0mmetrics\u001b[0m \u001b[0;32mimport\u001b[0m \u001b[0mconfusion_matrix\u001b[0m\u001b[0;34m\u001b[0m\u001b[0;34m\u001b[0m\u001b[0m\n\u001b[1;32m     28\u001b[0m \u001b[0;32mimport\u001b[0m \u001b[0mtime\u001b[0m\u001b[0;34m\u001b[0m\u001b[0;34m\u001b[0m\u001b[0m\n\u001b[0;32m---> 29\u001b[0;31m \u001b[0;32mimport\u001b[0m \u001b[0mscikitplot\u001b[0m \u001b[0;32mas\u001b[0m \u001b[0mskplt\u001b[0m\u001b[0;34m\u001b[0m\u001b[0;34m\u001b[0m\u001b[0m\n\u001b[0m\u001b[1;32m     30\u001b[0m \u001b[0;32mimport\u001b[0m \u001b[0mitertools\u001b[0m\u001b[0;34m\u001b[0m\u001b[0;34m\u001b[0m\u001b[0m\n\u001b[1;32m     31\u001b[0m \u001b[0;32mfrom\u001b[0m \u001b[0msklearn\u001b[0m\u001b[0;34m.\u001b[0m\u001b[0mmodel_selection\u001b[0m \u001b[0;32mimport\u001b[0m \u001b[0mGridSearchCV\u001b[0m\u001b[0;34m\u001b[0m\u001b[0;34m\u001b[0m\u001b[0m\n",
      "\u001b[0;31mModuleNotFoundError\u001b[0m: No module named 'scikitplot'"
     ]
    }
   ],
   "source": [
    "# Required Libraries are imported\n",
    "import warnings  \n",
    "import pandas as pd\n",
    "import numpy as np\n",
    "from sklearn.tree import DecisionTreeClassifier\n",
    "from sklearn.neighbors import KNeighborsClassifier\n",
    "from sklearn.svm import SVC\n",
    "from sklearn.naive_bayes import GaussianNB\n",
    "from sklearn.discriminant_analysis import QuadraticDiscriminantAnalysis\n",
    "from sklearn.metrics import accuracy_score\n",
    "from sklearn import preprocessing\n",
    "from sklearn.linear_model import LinearRegression,LogisticRegression\n",
    "import matplotlib.pyplot as plt\n",
    "from matplotlib.axes import Axes\n",
    "import seaborn as sns\n",
    "from sklearn.ensemble import ExtraTreesClassifier\n",
    "from sklearn.feature_selection import SelectFromModel\n",
    "from sklearn.ensemble import RandomForestClassifier\n",
    "from sklearn.model_selection import StratifiedKFold\n",
    "from sklearn.feature_selection import RFECV\n",
    "from sklearn.feature_selection import RFE\n",
    "from sklearn.model_selection import cross_val_score\n",
    "from sklearn.feature_selection import VarianceThreshold\n",
    "from sklearn.pipeline import make_pipeline\n",
    "from sklearn.decomposition import PCA\n",
    "from collections import Counter\n",
    "from sklearn.metrics import confusion_matrix\n",
    "import time\n",
    "import scikitplot as skplt\n",
    "import itertools\n",
    "from sklearn.model_selection import GridSearchCV\n",
    "warnings.filterwarnings('ignore')"
   ]
  },
  {
   "cell_type": "markdown",
   "metadata": {
    "_uuid": "550323139df11dd821dd31d528a550af98756e51"
   },
   "source": [
    "# Data Exploration\n",
    "### 1.   Read Train and Test Dataset\n",
    "### 2. Checked for null values found none "
   ]
  },
  {
   "cell_type": "code",
   "execution_count": null,
   "metadata": {
    "_cell_guid": "79c7e3d0-c299-4dcb-8224-4455121ee9b0",
    "_kg_hide-input": false,
    "_kg_hide-output": false,
    "_uuid": "d629ff2d2480ee46fbb7e2d37f6b5fab8052498a"
   },
   "outputs": [],
   "source": [
    "# Reading the Dataset\n",
    "df_train=pd.read_csv(\"C:\\Data\\train.csv\")\n",
    "df_test=pd.read_csv(\"C:\\Data\\test.csv\")\n",
    "\n",
    "# Check null values\n",
    "df_train.isnull().values.any()\n",
    "df_test.isnull().values.any()\n",
    "# No null values in train and test data\n"
   ]
  },
  {
   "cell_type": "markdown",
   "metadata": {
    "_uuid": "b7557291b5c0f8329aba465299e950b63823b4f5"
   },
   "source": [
    "## Checking top 5 rows just to get an idea of data we are dealing with"
   ]
  },
  {
   "cell_type": "code",
   "execution_count": null,
   "metadata": {
    "_uuid": "e6268d4447206d19c3772a9029153bab8c92b0c8"
   },
   "outputs": [],
   "source": [
    "# Top 5 rows\n",
    "df_train.head()"
   ]
  },
  {
   "cell_type": "markdown",
   "metadata": {
    "_uuid": "48d60de914243c1812e81ac07ce5b50dad74d8c6"
   },
   "source": [
    "# Subject column removed why?\n",
    "###  Based on the Domain knowledge- knowing that subject column does not affect the prediction variable it is removed"
   ]
  },
  {
   "cell_type": "code",
   "execution_count": null,
   "metadata": {
    "_uuid": "821a609b47914e6410c7d900b3ef61bfe827ab0d"
   },
   "outputs": [],
   "source": [
    "# Subject col not usefull hence dropped\n",
    "if('subject' in df_train.columns):\n",
    "    df_train.drop('subject', axis =1, inplace=True)\n",
    "if('subject' in df_test.columns):\n",
    "    df_test.drop('subject', axis =1, inplace=True)\n"
   ]
  },
  {
   "cell_type": "markdown",
   "metadata": {
    "_uuid": "8b945bc25af6dd18951699288be2126bdec001cd"
   },
   "source": [
    "# Variable Encoding for classes "
   ]
  },
  {
   "cell_type": "code",
   "execution_count": null,
   "metadata": {
    "_uuid": "11632803dcf63da8039236fcf9328ff068cacc42"
   },
   "outputs": [],
   "source": [
    "# Encoding target - converting non-num to num variable\n",
    "le = preprocessing.LabelEncoder()\n",
    "for x in [df_train,df_test]:\n",
    "    x['Activity'] = le.fit_transform(x.Activity)\n",
    "\n",
    "# Split into features and class\n",
    "df_traindata, df_trainlabel = df_train.iloc[:, 0:len(df_train.columns) - 1], df_train.iloc[:, -1]\n",
    "df_testdata, df_testlabel = df_test.iloc[:, 0:len(df_test.columns) -1], df_test.iloc[:, -1]\n"
   ]
  },
  {
   "cell_type": "markdown",
   "metadata": {
    "_uuid": "0292a4ef973776cf63608f5831b283d045f69fff"
   },
   "source": [
    "# Baseline\n",
    "\n",
    "### Considering all the 563 features, modelling is done with some best classifying algorithms along with comparison of test and train accuracy. "
   ]
  },
  {
   "cell_type": "code",
   "execution_count": null,
   "metadata": {
    "_uuid": "6163573a8fe0cf380fc2515eece82504b8977525"
   },
   "outputs": [],
   "source": [
    "warnings.filterwarnings('ignore')\n",
    "# Baseline - comparing model accuracy using all features across classifiers \n",
    "classifiers = [\n",
    "    DecisionTreeClassifier(),\n",
    "    RandomForestClassifier(),\n",
    "    KNeighborsClassifier(),\n",
    "    SVC(kernel=\"linear\"),\n",
    "    GaussianNB(),\n",
    "    LogisticRegression()\n",
    "    ]\n",
    "\n",
    "\n",
    "# Naive Train Accuracy\n",
    "algo = []\n",
    "scores = []\n",
    "for clf in classifiers:\n",
    "    algo.append(clf.__class__.__name__)\n",
    "    scores.append(cross_val_score(clf,df_traindata,df_trainlabel, cv=5).mean())\n",
    "warnings.filterwarnings('ignore')\n",
    "Naivescore_df_Train = pd.DataFrame({'Algorithm': algo, 'Score': scores}).set_index('Algorithm')\n",
    "\n",
    "\n",
    "# Naive Test Accuracy\n",
    "\n",
    "algo = []\n",
    "scores = []\n",
    "\n",
    "for clf in classifiers:\n",
    "    clf = clf.fit(df_traindata, df_trainlabel)\n",
    "    y_pred = clf.predict(df_testdata)\n",
    "    algo.append(clf.__class__.__name__)\n",
    "    scores.append(accuracy_score(y_pred, df_testlabel))\n",
    "warnings.filterwarnings('ignore')\n",
    "Naivescore_df_Test  = pd.DataFrame({'Algorithm': algo, 'Score': scores}).set_index('Algorithm')\n",
    "\n",
    "# Bar plot between Train and Test Accuracy\n",
    "fig = plt.figure(figsize=(5,5)) # Create matplotlib figure\n",
    "\n",
    "ax = fig.add_subplot(111) # Create matplotlib axes\n",
    "ax2 = ax.twinx() # Create another axes that shares the same x-axis as a\n",
    "width = .3\n",
    "\n",
    "Naivescore_df_Train.Score.plot(kind='bar',color='green',ax=ax,width=width, position=0)\n",
    "Naivescore_df_Test.Score.plot(kind='bar',color='red', ax=ax2,width = width,position=1)\n",
    "\n",
    "ax.grid(None, axis=1)\n",
    "ax2.grid(None)\n",
    "\n",
    "ax.set_ylabel('Train')\n",
    "ax2.set_ylabel('Test')\n",
    "\n",
    "ax.set_xlim(-1,7)\n",
    "plt.show()\n",
    "\n",
    "\n"
   ]
  },
  {
   "cell_type": "markdown",
   "metadata": {
    "_uuid": "078b1ee286d879cbe7bc05a4c149cf0ee5e42b83"
   },
   "source": [
    "### Using Naive approch we can clearly see that SVM performs better in train/test across all the other classifiers hence SVM classifier  is selected for further tuning."
   ]
  },
  {
   "cell_type": "markdown",
   "metadata": {
    "_uuid": "4150fa7a2151414dba98af907922fdf8028e42d9"
   },
   "source": [
    "# Feature Selection \n",
    "## Tree Based Feature Selection\n",
    "\n",
    "### Tree based estimators are used to compute feature importance which is visualized by their ranking. Further, from their obtained importance’s, the irrelevant features are discarded using select from model meta transformer. Random forest is chosen as the estimator with its high-performance post evaluation and comparison with extra tree classifier and SVM. Feature is reduced to 83 most important ones for prediction"
   ]
  },
  {
   "cell_type": "code",
   "execution_count": null,
   "metadata": {
    "_uuid": "848a81c651689a1f9e82a795a280b6fcec3ceeeb"
   },
   "outputs": [],
   "source": [
    "# Feature selection using Random Forest Classifier\n",
    "\n",
    "# Bagged decision trees for feature importance- embedded method\n",
    "Rtree_clf = RandomForestClassifier()\n",
    "Rtree_clf = Rtree_clf.fit(df_traindata,df_trainlabel)\n",
    "model = SelectFromModel(Rtree_clf, prefit=True)\n",
    "RF_tree_featuresTrain=df_traindata.loc[:, model.get_support()]\n",
    "RF_tree_featuresTest = df_testdata.loc[:, model.get_support()]\n",
    "warnings.filterwarnings('ignore')\n",
    "\n",
    "# Based on Feature Selection only 87 features were selected\n",
    "\n",
    "# Feature Importance\n",
    "\n",
    "# Important scores\n",
    "# for name, importance in zip(df_traindata, Rtree_clf.feature_importances_):\n",
    "#     print(name, \"=\", importance)\n",
    "\n",
    "importances = Rtree_clf.feature_importances_\n",
    "std = np.std([tree.feature_importances_ for tree in Rtree_clf.estimators_],axis=0)\n",
    "indices = np.argsort(importances)[::-1]\n",
    "indices.shape\n",
    "indices = indices[:200]\n",
    "# Feature Ranking\n",
    "#print(\"Feature ranking:\")\n",
    "#for f in range(200):\n",
    "#    print(\"%d. feature %d (%f)\" % (f + 1, indices[f], importances[indices[f]]))\n",
    "\n",
    "# Plots feature importances\n",
    "\n",
    "plt.figure(1, figsize=(14, 13))\n",
    "plt.title(\"Feature importances\")\n",
    "plt.xlabel(\"# of Features \")\n",
    "plt.ylabel(\"Importance Score\")\n",
    "plt.bar(range(200), importances[indices],color=\"r\", yerr=std[indices], align=\"center\")\n",
    "plt.xlim([0, 200])\n",
    "plt.show()\n",
    "\n",
    "\n"
   ]
  },
  {
   "cell_type": "markdown",
   "metadata": {
    "_uuid": "44354bf4167738358d56721a6b9a940c2ba112f4"
   },
   "source": [
    "## Why was cross validation done in Training set??\n",
    "\n",
    "### Compare learning curve with training set and Cross validation training set"
   ]
  },
  {
   "cell_type": "code",
   "execution_count": null,
   "metadata": {
    "_uuid": "bb985dcf0d3b5b2ddbaf5ae1fb53d78dd07daafb"
   },
   "outputs": [],
   "source": [
    "\n",
    "skplt.estimators.plot_learning_curve(Rtree_clf,RF_tree_featuresTrain,df_trainlabel)\n"
   ]
  },
  {
   "cell_type": "markdown",
   "metadata": {
    "_uuid": "02a72830ba008efd57fbb775ff2bcbd6aa382559"
   },
   "source": [
    "### We can clearly see that the accuracy remains to 100% which creates a lot of overfitting hence cross validation is done to training to reduce overfitting"
   ]
  },
  {
   "cell_type": "markdown",
   "metadata": {
    "_uuid": "5026794cc8cc5e98ef18b5f422e1ba4931d40f70"
   },
   "source": [
    "## Recursive Feature Elmination"
   ]
  },
  {
   "cell_type": "markdown",
   "metadata": {
    "_uuid": "6ac90e02a08a01c39df4c1eb0aee63eb7af0fbf5"
   },
   "source": [
    "###  Firstly, feature raking is performed with recursive feature elimination and cross validation for automatic tuning selecting the best number of features. With the optimal number of features from RFECV, RFE is performed. SVM is used as an external estimator for assignment of weights to features. The weights obtained are treated as importance of the features. Further, RFE selects features by consideration of smaller sets of features each time. The least importance features are pruned from the current set of features. This procedure is recursively repeated on the pruned set until the given number of optimal features is reached."
   ]
  },
  {
   "cell_type": "code",
   "execution_count": null,
   "metadata": {
    "_uuid": "dccbd67910510e0387557b8fa7bff35afcaaea9f"
   },
   "outputs": [],
   "source": [
    "# Applying RFE Cross validation to find number of features\n",
    "# The \"accuracy\" scoring is proportional to the number of correct classifications\n",
    "\n",
    "# Before we apply RFE we need to know the optimal number of features. Hence RFECV crossvalidation technique is used to find \n",
    "# the optimal number of features based on the accuracy score in the training set. \n",
    "\n",
    "# Applying RFECV with svm classifier\n",
    "svc=SVC(kernel=\"linear\")\n",
    "rfecv = RFECV(estimator=svc, step=1, cv=StratifiedKFold(2), # Stratified fold inorder to reduce bias\n",
    "              scoring='accuracy')\n",
    "rfetrain=rfecv.fit(RF_tree_featuresTrain, df_trainlabel)\n",
    "print('Optimal number of features :', rfecv.n_features_)\n",
    "\n",
    "\n",
    "# Plot showing the Cross Validation score\n",
    "plt.figure()\n",
    "plt.xlabel(\"Number of features selected\")\n",
    "plt.ylabel(\"Cross validation score (nb of correct classifications)\")\n",
    "plt.plot(range(1, len(rfecv.grid_scores_) + 1), rfecv.grid_scores_)\n",
    "plt.show()\n",
    "\n"
   ]
  },
  {
   "cell_type": "markdown",
   "metadata": {
    "_uuid": "b39b01535970cb57a55f48f87dfd76b3ee19e708"
   },
   "source": [
    "### Applying RFE with optimal number of features found in RFECV"
   ]
  },
  {
   "cell_type": "code",
   "execution_count": null,
   "metadata": {
    "_uuid": "5e25cdd3ed0241870216d5a5b5884395f9a54102"
   },
   "outputs": [],
   "source": [
    "\n",
    "# Applying RFE with optimal number of features\n",
    "rfe = RFE(estimator=svc, n_features_to_select=rfecv.n_features_, step=1)\n",
    "rfe = rfe.fit(RF_tree_featuresTrain, df_trainlabel)\n",
    "\n",
    "rfe_train=RF_tree_featuresTrain.loc[:, rfe.get_support()]\n",
    "rfe_test=RF_tree_featuresTest.loc[:, rfe.get_support()]\n",
    "\n",
    "\n",
    "# Checking the Accuracy after rfe\n",
    "# Train Accuracy\n",
    "print(\"Train Accuracy:\",cross_val_score(svc,rfe_train,df_trainlabel, cv=5).mean())\n",
    "# Test Accuracy\n",
    "scv = svc.fit(rfe_train, df_trainlabel)\n",
    "y_pred = scv.predict(rfe_test)\n",
    "print(\"Test Accuracy:\",accuracy_score(y_pred, df_testlabel))\n"
   ]
  },
  {
   "cell_type": "markdown",
   "metadata": {
    "_uuid": "abfb9818697d094bf1ad16ee537b9ce8f9c8426a"
   },
   "source": [
    "##  Applying Variance Threshold method to remove low variance variable\n",
    "\n",
    "### Finally, a simple approach to feature selection is also performed. Variance threshold method is used through which all features whose variance don’t meet threshold of 0.95 are removed giving rise to 51 features."
   ]
  },
  {
   "cell_type": "code",
   "execution_count": null,
   "metadata": {
    "_uuid": "bae8f398e78bc0b277416e96984a7176fa3a55a6"
   },
   "outputs": [],
   "source": [
    "\n",
    "# Variance threshold\n",
    "selector = VarianceThreshold(0.95*(1-.95))\n",
    "varsel=selector.fit(rfe_train)\n",
    "rfe_train.loc[:, varsel.get_support()].shape\n",
    "# 55\n",
    "vartrain=rfe_train.loc[:, varsel.get_support()]\n",
    "vartest=rfe_test.loc[:, varsel.get_support()]\n",
    "\n",
    "# Checking the Accuracy after Variance threshold\n",
    "# Train Accuracy\n",
    "print(\"Train Accuracy:\",cross_val_score(svc,vartrain,df_trainlabel, cv=5).mean())\n",
    "\n",
    "# Test Accuracy\n",
    "scv = svc.fit(vartrain, df_trainlabel)\n",
    "y_pred = scv.predict(vartest)\n",
    "print(\"Test Accuracy:\",accuracy_score(y_pred, df_testlabel))\n",
    "\n"
   ]
  },
  {
   "cell_type": "markdown",
   "metadata": {
    "_uuid": "d401d7c4369806b64041eca54bc50feac426d096"
   },
   "source": [
    "# Feature Extraction using PCA (Principal Component Analysis)"
   ]
  },
  {
   "cell_type": "markdown",
   "metadata": {
    "_uuid": "438efb57ed47dc8179b2466495ab88d8127cdb98"
   },
   "source": [
    "## Finding the number of dimensions to transform using PCA\n",
    "\n",
    "### Running Principal Component analysis, it is found that the model information can be captured with 21 features as they seem to cover the maximum variance. Hence, the 21 new features in an entirely new dimension are chosen as the final set of features removing the other least discriminative ones. The chosen 21 features seem to have an explained variance of 99 % which can be clearly visualized in the graph below."
   ]
  },
  {
   "cell_type": "code",
   "execution_count": null,
   "metadata": {
    "_uuid": "3fc5628b6de613b141c588607a088cd29e48eaab"
   },
   "outputs": [],
   "source": [
    "# PCA\n",
    "pca = PCA(n_components = len(vartrain.columns))\n",
    "pca_traindata = pca.fit(vartrain)\n",
    "\n",
    "pca_traindata.explained_variance_\n",
    "pca_traindata.n_components_\n",
    "pcatrain = pca_traindata.transform(vartrain)\n",
    "pcatest = pca_traindata.transform(vartest)\n",
    "cum_ratio = (np.cumsum(pca_traindata.explained_variance_ratio_))\n",
    "\n",
    "\n",
    "# Visualize PCA result\n",
    "plt.plot(np.cumsum(pca_traindata.explained_variance_ratio_))\n",
    "plt.xlabel('number of components')\n",
    "plt.ylabel('cumulative explained variance')\n"
   ]
  },
  {
   "cell_type": "markdown",
   "metadata": {
    "_uuid": "f1090b73bc1bdd063cb3667370987d75472a0aab"
   },
   "source": [
    "## Applying PCA with number of components=21 "
   ]
  },
  {
   "cell_type": "code",
   "execution_count": null,
   "metadata": {
    "_uuid": "351bf3a188dcc8dc409290add0cd8d1e746a2fcc"
   },
   "outputs": [],
   "source": [
    "# 21 features - constant after that\n",
    "pca = PCA(n_components = 21)\n",
    "pca_traindata = pca.fit(vartrain)\n",
    "\n",
    "pca_traindata.explained_variance_\n",
    "pca_traindata.n_components_\n",
    "pcatrain = pca_traindata.transform(vartrain)\n",
    "pcatest = pca_traindata.transform(vartest)\n",
    "(np.cumsum(pca_traindata.explained_variance_ratio_))\n"
   ]
  },
  {
   "cell_type": "markdown",
   "metadata": {
    "_uuid": "2dd73caae5a46152bd2577b90bd41f82b0632933"
   },
   "source": [
    "## Visualizing top 2 principal components in scatter plot with data points segregated based on their activities"
   ]
  },
  {
   "cell_type": "code",
   "execution_count": null,
   "metadata": {
    "_uuid": "e2a3641ac65cb89f722a338787cd75c1666e4989"
   },
   "outputs": [],
   "source": [
    "# PCA in 2D projection\n",
    " \n",
    "skplt.decomposition.plot_pca_2d_projection(pca, vartrain, df_trainlabel)\n"
   ]
  },
  {
   "cell_type": "markdown",
   "metadata": {
    "_uuid": "010e172150db670b6fb5b20f3145a5f318a09bcc"
   },
   "source": [
    "## Accuracy check on Test and Train to see if it has increased"
   ]
  },
  {
   "cell_type": "code",
   "execution_count": null,
   "metadata": {
    "_uuid": "f663546160743c0eceff6f935aea998e9863e5a9"
   },
   "outputs": [],
   "source": [
    "# Checking Accuracy after applying PCA\n",
    "\n",
    "# Train Accuracy\n",
    "print(\"Train Accuracy:\",cross_val_score(svc,pcatrain,df_trainlabel, cv=5).mean())\n",
    "\n",
    "# Test Accuracy\n",
    "scv = svc.fit(pcatrain, df_trainlabel)\n",
    "y_pred = scv.predict(pcatest)\n",
    "ac_score = accuracy_score(y_pred, df_testlabel)\n",
    "print(\"Test Accuracy:\",accuracy_score(y_pred, df_testlabel))"
   ]
  },
  {
   "cell_type": "markdown",
   "metadata": {
    "_uuid": "c184eab6261fec1bef679d421aae4f16d58c0f73"
   },
   "source": [
    "# Confusion Matrix after applying PCA\n",
    "\n",
    "### Confusion matrix above is presented for test data with the highest scoring feature subset and optimal parameters, where the rows correspond to the actual performed activities, while the columns correspond to the predicated activity labels. We can clearly see the number of false positives and false negatives are very low. It is intrepreted that there seem to be very less number of misclasified data."
   ]
  },
  {
   "cell_type": "code",
   "execution_count": null,
   "metadata": {
    "_uuid": "9922a234bd60bc67279929904bb7ee29271bcf3e"
   },
   "outputs": [],
   "source": [
    "# Confusion Matrix\n",
    "\n",
    "cf_mat = confusion_matrix(df_testlabel, y_pred)\n",
    "print(\"Accuracy: %f\" %ac_score) \n",
    "activities = le.classes_\n",
    "\n",
    "# Plotting Confusion matrix heatmap\n",
    "def plot_confusion_matrix(cm, classes,\n",
    "                          normalize=False,\n",
    "                          title='Confusion matrix',\n",
    "                          cmap=plt.cm.Blues):\n",
    "    \"\"\"\n",
    "    This function prints and plots the confusion matrix.\n",
    "    Normalization can be applied by setting `normalize=True`.\n",
    "    \"\"\"\n",
    "    if normalize:\n",
    "        cm = cm.astype('float') / cm.sum(axis=1)[:, np.newaxis]\n",
    "        print(\"Normalized confusion matrix\")\n",
    "    else:\n",
    "        print('Confusion matrix, without normalization')\n",
    "\n",
    "    print(cm)\n",
    "\n",
    "    plt.imshow(cm, interpolation='nearest', cmap=cmap)\n",
    "    plt.title(title)\n",
    "    plt.colorbar()\n",
    "    tick_marks = np.arange(len(classes))\n",
    "    plt.xticks(tick_marks, classes, rotation=45)\n",
    "    plt.yticks(tick_marks, classes)\n",
    "\n",
    "    fmt = '.2f' if normalize else 'd'\n",
    "    thresh = cm.max() / 2.\n",
    "    for i, j in itertools.product(range(cm.shape[0]), range(cm.shape[1])):\n",
    "        plt.text(j, i, format(cm[i, j], fmt),\n",
    "                 horizontalalignment=\"center\",\n",
    "                 color=\"white\" if cm[i, j] > thresh else \"black\")\n",
    "\n",
    "    plt.ylabel('True label')\n",
    "    plt.xlabel('Predicted label')\n",
    "    plt.tight_layout()\n",
    "\n",
    "plot_confusion_matrix(cf_mat, classes=activities,title=\"Confusion Matrix for Test data\")\n"
   ]
  },
  {
   "cell_type": "markdown",
   "metadata": {
    "_uuid": "a9cc29999e863b11c291db356bc89c115bacd884"
   },
   "source": [
    "# Hyper Parameter Tuning- finding the best parameters and kernel"
   ]
  },
  {
   "cell_type": "code",
   "execution_count": null,
   "metadata": {
    "_uuid": "87f810e36364cb4e30ba39fc8ad9f77dbb70046b"
   },
   "outputs": [],
   "source": [
    "# Parameter Tuning \n",
    "\n",
    "# Perfromance tuning using GridScore\n",
    "param_grid = [\n",
    "  {'C': [1, 10, 100, 1000], 'gamma': [0.001, 0.0001], 'kernel': ['linear']},\n",
    "  {'C': [1, 10, 100, 1000], 'gamma': [0.001, 0.0001], 'kernel': ['rbf']},\n",
    " ]\n",
    "svr = SVC()\n",
    "clf = GridSearchCV(svr, param_grid,cv=5)\n",
    "clf.fit(pcatrain,df_trainlabel)\n",
    "print(clf.best_params_)\n",
    "\n",
    "\n"
   ]
  },
  {
   "cell_type": "markdown",
   "metadata": {
    "_uuid": "23b471ae52b6826432888c10fab0ea722a5ab1fb"
   },
   "source": [
    "## Train Test Accuracy check with best params and features\n",
    "\n",
    "### Finally, post tuning of hyper- parameter, the accuracy is checked to see how well the chosen model performed with the selected optimal numer of features"
   ]
  },
  {
   "cell_type": "code",
   "execution_count": null,
   "metadata": {
    "_uuid": "00c37b31549b915a0f22e7cbdf3b2e0340e520d6"
   },
   "outputs": [],
   "source": [
    "\n",
    "# Train Accuracy \n",
    "svr = SVC(kernel=\"rbf\",C=1000,gamma=0.001)\n",
    "print(\"Train Accuracy:\",cross_val_score(svr,pcatrain,df_trainlabel, cv=5).mean())\n",
    "# Test Accuracy\n",
    "scv = svr.fit(pcatrain, df_trainlabel)\n",
    "y_pred = scv.predict(pcatest)\n",
    "print(\"Test Accuracy:\",accuracy_score(y_pred, df_testlabel))\n",
    " "
   ]
  },
  {
   "cell_type": "markdown",
   "metadata": {
    "_uuid": "04aeba78391721019807f8769ff358903d8229d5"
   },
   "source": [
    "### With test and train accuracy almost equal to 92%, we are getting a maximum accuracy at this level."
   ]
  }
 ],
 "metadata": {
  "gist": {
   "data": {
    "description": "human activity recognition.ipynb",
    "public": true
   },
   "id": ""
  },
  "kernelspec": {
   "display_name": "Python 3",
   "language": "python",
   "name": "python3"
  },
  "language_info": {
   "codemirror_mode": {
    "name": "ipython",
    "version": 3
   },
   "file_extension": ".py",
   "mimetype": "text/x-python",
   "name": "python",
   "nbconvert_exporter": "python",
   "pygments_lexer": "ipython3",
   "version": "3.7.6"
  }
 },
 "nbformat": 4,
 "nbformat_minor": 1
}
